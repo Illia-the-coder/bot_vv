{
 "cells": [
  {
   "cell_type": "code",
   "execution_count": 11,
   "metadata": {},
   "outputs": [],
   "source": [
    "from PIL import Image\n",
    "import os\n",
    "\n",
    "# Define folder path\n",
    "folder_path = \"./images_tg_channel/\"  # Change this to your folder path if needed\n",
    "\n",
    "# Get all .png files in the folder\n",
    "image_files = [f for f in os.listdir(folder_path) if f.endswith(\".png\")]\n",
    "\n",
    "# Open images with high quality\n",
    "images = [Image.open(os.path.join(folder_path, img)).convert(\"RGBA\") for img in image_files]\n",
    "\n",
    "# Adjust image sizes based on their original proportions\n",
    "images_resized = []\n",
    "for img in images:\n",
    "    img.thumbnail((200, 200), Image.LANCZOS)  # Resize while maintaining aspect ratio\n",
    "    images_resized.append(img)\n",
    "\n",
    "# Create a blank canvas for the collage with a transparent background\n",
    "collage_width = sum(img.width for img in images_resized[:3])  # Width of first row\n",
    "collage_height = sum(img.height for img in images_resized[::3])  # Height of first column\n",
    "collage = Image.new(\"RGBA\", (collage_width, collage_height))\n",
    "\n",
    "# Paste images onto the collage with anti-aliasing\n",
    "x_offset = 0\n",
    "y_offset = 0\n",
    "for i, img in enumerate(images_resized):\n",
    "    collage.paste(img, (x_offset, y_offset), img)\n",
    "    x_offset += img.width\n",
    "    if (i + 1) % 3 == 0:  # Move to the next row after 3 images\n",
    "        x_offset = 0\n",
    "        y_offset += img.height\n",
    "\n",
    "# Save the collage with maximum quality\n",
    "collage.convert(\"RGB\").save(\"collage.jpg\", quality=100)\n",
    "\n",
    "# Show the collage\n",
    "collage.show()\n"
   ]
  },
  {
   "cell_type": "code",
   "execution_count": null,
   "metadata": {},
   "outputs": [],
   "source": [
    "import asyncio\n",
    "from telethon import TelegramClient, events\n",
    "from telethon.errors import SessionPasswordNeededError\n",
    "\n",
    "# Replace these with your own values\n",
    "API_ID = '29848792'\n",
    "API_HASH = '918e0e0057edfa32b962802c2659517f'\n",
    "SESSION_NAME = 'session_name'  # You can name this anything\n",
    "TARGET_GROUP = -1001602329556  # Replace with the target group\n",
    "OLD_PHRASE = '****'  # Phrase to be replaced\n",
    "NEW_PHRASE = ''  # Replacement phrase\n",
    "\n",
    "async def main():\n",
    "    client = TelegramClient(SESSION_NAME, API_ID, API_HASH)\n",
    "\n",
    "    await client.start()\n",
    "    print(\"Client Created\")\n",
    "\n",
    "    # Get the target group entity\n",
    "    try:\n",
    "        target = await client.get_entity(TARGET_GROUP)\n",
    "    except ValueError:\n",
    "        print(f\"Group '{TARGET_GROUP}' not found.\")\n",
    "        return\n",
    "\n",
    "    # Iterate through messages in the group\n",
    "    async for message in client.iter_messages(target, search=OLD_PHRASE):\n",
    "        if OLD_PHRASE in message.text:\n",
    "            new_text = message.text.replace(OLD_PHRASE, NEW_PHRASE)\n",
    "            try:\n",
    "                await message.edit(new_text, parse_mode='markdown')\n",
    "                print(f\"Edited message ID {message.id}\")\n",
    "            except Exception as e:\n",
    "                print(f\"Failed to edit message ID {message.id}: {e}\")\n",
    "\n",
    "    await client.disconnect()\n",
    "\n",
    "if __name__ == '__main__':\n",
    "    asyncio.run(main())"
   ]
  },
  {
   "cell_type": "code",
   "execution_count": 3,
   "metadata": {},
   "outputs": [],
   "source": [
    "import json "
   ]
  },
  {
   "cell_type": "code",
   "execution_count": 4,
   "metadata": {},
   "outputs": [],
   "source": [
    "with open('config.json', 'r', encoding='utf-8') as file:\n",
    "    config = json.load(file)"
   ]
  },
  {
   "cell_type": "code",
   "execution_count": 6,
   "metadata": {},
   "outputs": [
    {
     "name": "stdout",
     "output_type": "stream",
     "text": [
      "• Stephansplatz\n",
      "• Praterstern\n",
      "• Wien Mitte\n",
      "• Hauptbahnhof\n",
      "• Kagran\n",
      "• Sankt Marx\n",
      "• Vorgartenstraße\n"
     ]
    }
   ],
   "source": [
    "for location_key, location_value in config['locations'].items():\n",
    "    print('• '+location_value['name'])"
   ]
  },
  {
   "cell_type": "code",
   "execution_count": 5,
   "metadata": {},
   "outputs": [
    {
     "name": "stdout",
     "output_type": "stream",
     "text": [
      "Elfbar BC 5000 Ultra\n",
      "\n",
      "Elfbar EP 8000\n",
      "\n",
      "Elfbar BC 10000\n",
      "\n",
      "Elfbar BC 15000\n",
      "\n",
      "Elfbar BC 18000\n",
      "\n",
      "Elfbar BC 20000\n",
      "\n",
      "Elfbar 25000 Combo\n",
      "\n",
      "Vozol Gear 10000\n"
     ]
    }
   ],
   "source": [
    "hqd_collections_names = [collection['name'] for collection in config['catalog']['hqd_collections']]\n",
    "formatted_names = '\\n\\n'.join(hqd_collections_names)\n",
    "print(formatted_names)"
   ]
  },
  {
   "cell_type": "code",
   "execution_count": 24,
   "metadata": {},
   "outputs": [
    {
     "name": "stdout",
     "output_type": "stream",
     "text": [
      "Chaser Black 5% 30ml\n",
      "30 ml жидкости\n",
      "5% никотина\n",
      "Type-C зарядка\n",
      "📌 Strawberry Blueberry\n",
      "📌 Energy Raspberry\n",
      "📌 Flirt\n",
      "Elfliq 5% 30ml\n",
      "30 ml жидкости\n",
      "5% никотина\n",
      "Type-C зарядка\n",
      "📌 Spearmint\n",
      "📌 Blue Razz Ice\n",
      "📌 Blueberry Rose Mint\n",
      "📌 Lemon Lime\n",
      "📌 Strawberry Raspberry Cherry Ice\n",
      "📌 Pink Lemonade\n",
      "📌 Sour Watermelon Gummy\n"
     ]
    }
   ],
   "source": [
    "for collection in config['catalog']['liquid_collections']:\n",
    "\tprint(collection['name'])\n",
    "\tprint(collection['description'])\n",
    "\tfor item in collection['items']:\n",
    "\t\tprint(\"📌 \"+item['name'])"
   ]
  },
  {
   "cell_type": "code",
   "execution_count": null,
   "metadata": {},
   "outputs": [],
   "source": []
  }
 ],
 "metadata": {
  "kernelspec": {
   "display_name": "Python 3",
   "language": "python",
   "name": "python3"
  },
  "language_info": {
   "codemirror_mode": {
    "name": "ipython",
    "version": 3
   },
   "file_extension": ".py",
   "mimetype": "text/x-python",
   "name": "python",
   "nbconvert_exporter": "python",
   "pygments_lexer": "ipython3",
   "version": "3.9.6"
  }
 },
 "nbformat": 4,
 "nbformat_minor": 2
}
